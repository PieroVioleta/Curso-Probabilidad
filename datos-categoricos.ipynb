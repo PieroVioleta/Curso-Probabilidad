{
 "cells": [
  {
   "cell_type": "markdown",
   "metadata": {},
   "source": [
    "# Análisis de datos categóricos con Python"
   ]
  },
  {
   "cell_type": "markdown",
   "metadata": {},
   "source": [
    "## Introducción\n",
    "\n",
    "Cuando trabajamos con [estadísticas](http://relopezbriega.github.io/tag/estadistica.html), es importante reconocer los diferentes tipos de [datos](https://es.wikipedia.org/wiki/Dato): numéricos ([discretos y continuos](https://es.wikipedia.org/wiki/Variable_discreta_y_variable_continua)), [categóricos](https://en.wikipedia.org/wiki/Categorical_variable) y ordinales. Los [datos](https://es.wikipedia.org/wiki/Dato) no son más que observaciones del mundo en que vivimos, por tanto, los mismos pueden venir en diferentes formas, no solo numérica. Por ejemplo, si le preguntáramos a nuestros amigos ¿cuántas mascotas tienen? nos podrían responder: `0, 1, 2, 4, 3, 8`; esta información por sí misma puede ser útil, pero para nuestro análisis de mascotas, nos podría servir también otro tipo de información, como por ejemplo el *género* de cada uno de nuestros amigos; de esta forma obtendríamos la siguiente información: `hombre, mujer, mujer, mujer, hombre, mujer`. Como vemos, podemos incluir a los [datos](https://es.wikipedia.org/wiki/Dato) dentro de tres categorías fundamentales: [datos cuantitativos](https://es.wikipedia.org/wiki/Cantidad) o numéricos, [datos cualitativos](https://es.wikipedia.org/wiki/Cualidad) o [categóricos](https://en.wikipedia.org/wiki/Categorical_variable) y datos ordinales.\n",
    "\n",
    "### Datos cuantitativos\n",
    "\n",
    "Los [datos cuantitativos](https://es.wikipedia.org/wiki/Cantidad) son representados por números; estos números van a ser significativos si representan la medida o la cantidad observada de cierta característica. Dentro de esta categoría podemos encontrar por ejemplo: cantidades de dólares, cuentas, tamaños, número de empleados, y kilómetros por hora. Con los [datos cuantitativos](https://es.wikipedia.org/wiki/Cantidad), se puede hacer todo tipo de tareas de procesamiento de datos numéricos, tales como sumarlos, calcular promedios, o medir su variabilidad. Asimismo, vamos a poder dividir a los [datos cuantitativos](https://es.wikipedia.org/wiki/Cantidad) en [discretos y continuos](https://es.wikipedia.org/wiki/Variable_discreta_y_variable_continua), dependiendo de los valores potencialmente observables.\n",
    "\n",
    "* Los datos ***discretos*** solo van a poder asumir un valor de una lista de números específicos. Representan ítems que pueden ser *contados*; todos sus posibles valores pueden ser listados. Suele ser relativamente fácil trabajar con este tipo de [dato](https://es.wikipedia.org/wiki/Dato).\n",
    "\n",
    "* Los datos ***continuos*** representan *mediciones*; sus posibles valores no pueden ser contados y sólo pueden ser descritos usando intervalos en la recta de los [números reales](https://es.wikipedia.org/wiki/N%C3%BAmero_real). Por ejemplo, la cantidad de kilómetros recorridos no puede ser medida con exactitud, puede ser que hayamos recorrido 1.7 km o 1.6987 km; en cualquier medida que tomemos del mundo real, siempre pueden haber pequeñas o grandes variaciones. Generalmente, los *datos continuos* se suelen redondear a un número fijo de decimales para facilitar su manipulación.\n",
    "\n",
    "\n",
    "### Datos cualitativos \n",
    "\n",
    "Si los [datos](https://es.wikipedia.org/wiki/Dato) nos dicen en cual de determinadas categorías no numéricas nuestros ítems van a caer, entonces estamos hablando de [datos cualitativos](https://es.wikipedia.org/wiki/Cualidad) o [categóricos](https://en.wikipedia.org/wiki/Categorical_variable); ya que los mismos van a representar determinada *cualidad* que los ítems poseen. Dentro de esta categoría vamos a encontrar [datos](https://es.wikipedia.org/wiki/Dato) como: el sexo de una persona, el estado civil, la ciudad natal, o los tipos de películas que le gustan. Los [datos categóricos](https://en.wikipedia.org/wiki/Categorical_variable) pueden tomar valores numéricos (por ejemplo, \"1\" para indicar \"masculino\" y \"2\" para indicar \"femenino\"), pero esos números no tienen un sentido matemático.\n",
    "\n",
    "### Datos ordinales\n",
    "\n",
    "Una categoría intermedia entre los dos tipos de [datos](https://es.wikipedia.org/wiki/Dato) anteriores, son los *datos ordinales*. En este tipo de [datos](https://es.wikipedia.org/wiki/Dato), va a existir un *orden* significativo, vamos a poder clasificar un primero, segundo, tercero, etc. es decir, que podemos establecer un *ranking* para estos [datos](https://es.wikipedia.org/wiki/Dato), el cual posiblemente luego tenga un rol importante en la etapa de análisis. Los [datos](https://es.wikipedia.org/wiki/Dato) se dividen en categorías, pero los números colocados en cada categoría tienen un significado. Por ejemplo, la calificación de un restaurante en una escala de 0 (bajo) a 5 (más alta) estrellas representa *datos ordinales*. Los *datos ordinales* son a menudo tratados como [datos categóricos](https://en.wikipedia.org/wiki/Categorical_variable), en el sentido que se suelen agrupar y ordenar. Sin embargo, a diferencia de los [datos categóricos](https://en.wikipedia.org/wiki/Categorical_variable), los números sí tienen un significado matemático.\n",
    "\n",
    "En este artículo me voy a centrar en el segundo grupo, los [datos categóricos](https://en.wikipedia.org/wiki/Categorical_variable); veremos como podemos manipular fácilmente con la ayuda de [Python](http://python.org/) estos [datos](https://es.wikipedia.org/wiki/Dato) para poder encontrar *patrones*, *relaciones*, *tendencias* y *excepciones*. "
   ]
  },
  {
   "cell_type": "markdown",
   "metadata": {
    "collapsed": true
   },
   "source": [
    "## Análisis de datos categóricos con Python\n",
    "\n",
    "Para ejemplificar el análisis, vamos a utilizar nuestras habituales librerías científicas [NumPy](http://www.numpy.org/), [Pandas](http://pandas.pydata.org/),  [Matplotlib](http://matplotlib.org/) y [Seaborn](http://stanford.edu/~mwaskom/software/seaborn/). También vamos a utilizar la librería [pydataset](https://github.com/iamaziz/PyDataset), la cual nos facilita cargar los diferentes [dataset](https://es.wikipedia.org/wiki/Conjunto_de_datos) para analizar. \n",
    "\n",
    "La idea es realizar un análisis [estadístico](http://relopezbriega.github.io/tag/estadistica.html) sobre los [datos](https://es.wikipedia.org/wiki/Dato) de los sobrevivientes a la tragedia del [Titanic](https://es.wikipedia.org/wiki/RMS_Titanic).\n",
    "\n",
    "### La tragedia del Titanic\n",
    "\n",
    "El hundimiento del [Titanic](https://es.wikipedia.org/wiki/RMS_Titanic) es uno de los naufragios más infames de la historia. El 15 de abril de 1912, durante su viaje inaugural, el [Titanic](https://es.wikipedia.org/wiki/RMS_Titanic) se hundió después de chocar con un iceberg, matando a miles de personas. Esta tragedia sensacional conmocionó a la comunidad internacional y condujo a mejores normas de seguridad aplicables a los buques. \n",
    "Una de las razones por las que el naufragio dio lugar a semejante cantidad de muertes fue que no había suficientes botes salvavidas para los pasajeros y la tripulación. Aunque hubo algún elemento de suerte involucrada en sobrevivir al hundimiento, algunos grupos de personas tenían más probabilidades de sobrevivir que otros, como las mujeres, los niños y la clase alta.\n",
    "\n",
    "El siguiente [dataset](https://es.wikipedia.org/wiki/Conjunto_de_datos) proporciona información sobre el destino de los pasajeros en el viaje fatal del trasatlántico [Titanic](https://es.wikipedia.org/wiki/RMS_Titanic), que se resume de acuerdo con el nivel económico (clase), el sexo, la edad y la supervivencia."
   ]
  },
  {
   "cell_type": "code",
   "execution_count": 2,
   "metadata": {},
   "outputs": [
    {
     "name": "stdout",
     "output_type": "stream",
     "text": [
      "initiated datasets repo at: /home/clara/.pydataset/\n"
     ]
    }
   ],
   "source": [
    "%matplotlib inline\n",
    "\n",
    "import matplotlib.pyplot as plt\n",
    "import numpy as np \n",
    "import pandas as pd \n",
    "import seaborn as sns \n",
    "from pydataset import data\n",
    "\n",
    "# parametros esteticos de seaborn\n",
    "sns.set_palette(\"deep\", desat=.6)\n",
    "sns.set_context(rc={\"figure.figsize\": (8, 4)})"
   ]
  },
  {
   "cell_type": "code",
   "execution_count": 3,
   "metadata": {},
   "outputs": [],
   "source": [
    "# importando dataset\n",
    "titanic = data('titanic')"
   ]
  },
  {
   "cell_type": "code",
   "execution_count": 4,
   "metadata": {},
   "outputs": [
    {
     "data": {
      "text/html": [
       "<div>\n",
       "<style scoped>\n",
       "    .dataframe tbody tr th:only-of-type {\n",
       "        vertical-align: middle;\n",
       "    }\n",
       "\n",
       "    .dataframe tbody tr th {\n",
       "        vertical-align: top;\n",
       "    }\n",
       "\n",
       "    .dataframe thead th {\n",
       "        text-align: right;\n",
       "    }\n",
       "</style>\n",
       "<table border=\"1\" class=\"dataframe\">\n",
       "  <thead>\n",
       "    <tr style=\"text-align: right;\">\n",
       "      <th></th>\n",
       "      <th>class</th>\n",
       "      <th>age</th>\n",
       "      <th>sex</th>\n",
       "      <th>survived</th>\n",
       "    </tr>\n",
       "  </thead>\n",
       "  <tbody>\n",
       "    <tr>\n",
       "      <th>1</th>\n",
       "      <td>1st class</td>\n",
       "      <td>adults</td>\n",
       "      <td>man</td>\n",
       "      <td>yes</td>\n",
       "    </tr>\n",
       "    <tr>\n",
       "      <th>2</th>\n",
       "      <td>1st class</td>\n",
       "      <td>adults</td>\n",
       "      <td>man</td>\n",
       "      <td>yes</td>\n",
       "    </tr>\n",
       "    <tr>\n",
       "      <th>3</th>\n",
       "      <td>1st class</td>\n",
       "      <td>adults</td>\n",
       "      <td>man</td>\n",
       "      <td>yes</td>\n",
       "    </tr>\n",
       "    <tr>\n",
       "      <th>4</th>\n",
       "      <td>1st class</td>\n",
       "      <td>adults</td>\n",
       "      <td>man</td>\n",
       "      <td>yes</td>\n",
       "    </tr>\n",
       "    <tr>\n",
       "      <th>5</th>\n",
       "      <td>1st class</td>\n",
       "      <td>adults</td>\n",
       "      <td>man</td>\n",
       "      <td>yes</td>\n",
       "    </tr>\n",
       "    <tr>\n",
       "      <th>6</th>\n",
       "      <td>1st class</td>\n",
       "      <td>adults</td>\n",
       "      <td>man</td>\n",
       "      <td>yes</td>\n",
       "    </tr>\n",
       "    <tr>\n",
       "      <th>7</th>\n",
       "      <td>1st class</td>\n",
       "      <td>adults</td>\n",
       "      <td>man</td>\n",
       "      <td>yes</td>\n",
       "    </tr>\n",
       "    <tr>\n",
       "      <th>8</th>\n",
       "      <td>1st class</td>\n",
       "      <td>adults</td>\n",
       "      <td>man</td>\n",
       "      <td>yes</td>\n",
       "    </tr>\n",
       "    <tr>\n",
       "      <th>9</th>\n",
       "      <td>1st class</td>\n",
       "      <td>adults</td>\n",
       "      <td>man</td>\n",
       "      <td>yes</td>\n",
       "    </tr>\n",
       "    <tr>\n",
       "      <th>10</th>\n",
       "      <td>1st class</td>\n",
       "      <td>adults</td>\n",
       "      <td>man</td>\n",
       "      <td>yes</td>\n",
       "    </tr>\n",
       "  </tbody>\n",
       "</table>\n",
       "</div>"
      ],
      "text/plain": [
       "        class     age  sex survived\n",
       "1   1st class  adults  man      yes\n",
       "2   1st class  adults  man      yes\n",
       "3   1st class  adults  man      yes\n",
       "4   1st class  adults  man      yes\n",
       "5   1st class  adults  man      yes\n",
       "6   1st class  adults  man      yes\n",
       "7   1st class  adults  man      yes\n",
       "8   1st class  adults  man      yes\n",
       "9   1st class  adults  man      yes\n",
       "10  1st class  adults  man      yes"
      ]
     },
     "execution_count": 4,
     "metadata": {},
     "output_type": "execute_result"
    }
   ],
   "source": [
    "# ver primeros 10 registros\n",
    "titanic.head(10)"
   ]
  },
  {
   "cell_type": "markdown",
   "metadata": {
    "hide_input": false
   },
   "source": [
    "El problema con [datos](https://es.wikipedia.org/wiki/Dato) como estos, y en general con la mayoría de las *tablas de [datos](https://es.wikipedia.org/wiki/Dato)*, es que nos presentan mucha información y no nos permiten ver que es lo que realmente sucede o sucedió. Por tanto, deberíamos procesarla de alguna manera para hacernos una imagen de lo que los [datos](https://es.wikipedia.org/wiki/Dato) realmente representan y nos quieren decir; y que mejor manera para hacernos una imagen de algo que utilizar *visualizaciones*. Una buena *visualización de los datos* puede revelar cosas que es probable que no podamos ver en una tabla de números y nos ayudará a pensar con claridad acerca de los patrones y relaciones que pueden estar escondidos en los [datos](https://es.wikipedia.org/wiki/Dato). También nos va a ayudar a encontrar las características y patrones más importantes o los casos que son realmente excepcionales y no deberíamos de encontrar.\n",
    "\n",
    "### Tablas de frecuencia\n",
    "\n",
    "Para *hacernos una imagen* de los [datos](https://es.wikipedia.org/wiki/Dato), lo primero que tenemos que hacer es agruparlos. Al armar diferentes grupos nos vamos acercando a la comprensión de los [datos](https://es.wikipedia.org/wiki/Dato). La idea es ir amontonamos las cosas que parecen ir juntas, para poder ver como se distribuyen a través de las diferentes categorías. Para los [datos categóricos](https://en.wikipedia.org/wiki/Categorical_variable), agrupar es fácil; simplemente debemos contar el número de\n",
    "ítems que corresponden a cada categoría y apilarlos.\n",
    "Una forma en la que podemos agrupar nuestro [dataset](https://es.wikipedia.org/wiki/Conjunto_de_datos) del [Titanic](https://es.wikipedia.org/wiki/RMS_Titanic) es contando las diferentes *clases* de pasajeros. Podemos organizar estos conteos en una *tabla de [frecuencia](https://es.wikipedia.org/wiki/Frecuencia_estad%C3%ADstica)*, que registra los totales y los nombres de las categorías utilizando la función `value_counts` que nos proporciona [Pandas](http://pandas.pydata.org/) del siguiente modo: "
   ]
  },
  {
   "cell_type": "code",
   "execution_count": 5,
   "metadata": {},
   "outputs": [
    {
     "data": {
      "text/plain": [
       "3rd class    706\n",
       "1st class    325\n",
       "2nd class    285\n",
       "Name: class, dtype: int64"
      ]
     },
     "execution_count": 5,
     "metadata": {},
     "output_type": "execute_result"
    }
   ],
   "source": [
    "# tabla de frecuencia de clases de pasajeros\n",
    "pd.value_counts(titanic['class'])"
   ]
  },
  {
   "cell_type": "markdown",
   "metadata": {},
   "source": [
    "Contar las cantidad de apariciones de cada categoría puede ser útil, pero a veces puede resultar más útil saber la *fracción o proporción* de los [datos](https://es.wikipedia.org/wiki/Dato) de cada categoría, así que podríamos entonces dividir los recuentos por el total de casos para obtener los porcentajes que representa cada categoría. \n",
    "\n",
    "Una *tabla de [frecuencia](https://es.wikipedia.org/wiki/Frecuencia_estad%C3%ADstica) relativa* muestra los porcentajes, en lugar de los recuentos de los valores en cada categoría. Ambos tipos de tablas muestran cómo los\n",
    "casos se distribuyen a través de las categorías. De esta manera, ellas describen la *distribución* de una [variable categórica](https://en.wikipedia.org/wiki/Categorical_variable), ya que enumeran las posibles categorías y nos dicen con qué frecuencia se produce cada una de ellas."
   ]
  },
  {
   "cell_type": "code",
   "execution_count": 6,
   "metadata": {},
   "outputs": [
    {
     "data": {
      "text/plain": [
       "3rd class    53.647416\n",
       "1st class    24.696049\n",
       "2nd class    21.656535\n",
       "Name: class, dtype: float64"
      ]
     },
     "execution_count": 6,
     "metadata": {},
     "output_type": "execute_result"
    }
   ],
   "source": [
    "# tabla de frecuencia relativa de pasajeros\n",
    "100 * titanic['class'].value_counts() / len(titanic['class'])"
   ]
  },
  {
   "cell_type": "markdown",
   "metadata": {
    "collapsed": true
   },
   "source": [
    "### Gráficos de tartas y barras\n",
    "\n",
    "Ahora que ya conocemos a las *tablas de [frecuencia](https://es.wikipedia.org/wiki/Frecuencia_estad%C3%ADstica)* ya estamos en condiciones de crear visualizaciones que realmente nos den una imagen de los [datos](https://es.wikipedia.org/wiki/Dato), sus propiedades y sus relaciones. En este punto, debemos ser sumamente cuidadosos, ya que una mala visualización puede llegar a distorsionar nuestra comprensión, en lugar de ayudarnos. \n",
    "Las mejores *visualizaciones de datos* siguen un principio fundamental llamado el **principio del área**. Este principio nos dice que el área ocupada por cada parte del gráfico se debe corresponder con la magnitud del valor que representa. Violaciones del *principio de área* son una forma común de mentir con [estadísticas](http://relopezbriega.github.io/tag/estadistica.html). Dos gráficos útiles que podemos utilizar para representar nuestros [datos](https://es.wikipedia.org/wiki/Dato) y que cumplen con este principio son el [gráfico de barras](https://es.wikipedia.org/wiki/Diagrama_de_barras) y el [gráfico de tarta](https://es.wikipedia.org/wiki/Gr%C3%A1fico_circular).\n",
    "\n",
    "#### Gráfico de barras\n",
    "\n",
    "El [gráfico de barras](https://es.wikipedia.org/wiki/Diagrama_de_barras) nos ayuda a darnos una impresión visual más precisa de la distribución de nuestros [datos](https://es.wikipedia.org/wiki/Dato). La altura de cada barra muestra el recuento de su categoría. Los barras tienen el  mismo ancho, por lo que sus alturas determinan sus áreas, y estas áreas son proporcionales a los recuentos en cada categoría. De esta forma, podemos ver fácilmente que había más del doble de pasajeros de tercera clase, que de primera o segunda clase. Los [gráficos de barras](https://es.wikipedia.org/wiki/Diagrama_de_barras) hacen que este tipo de comparaciones sean fáciles y naturales. Veamos como podemos crearlos de forma sencilla utilizando el método `plot` dentro de un `DataFrame` de [Pandas](http://pandas.pydata.org/). "
   ]
  },
  {
   "cell_type": "code",
   "execution_count": 7,
   "metadata": {},
   "outputs": [
    {
     "data": {
      "image/png": "[encoded data removed]",
      "text/plain": [
       "<Figure size 432x288 with 1 Axes>"
      ]
     },
     "metadata": {},
     "output_type": "display_data"
    }
   ],
   "source": [
    "# Gráfico de barras de pasajeros del Titanic\n",
    "plot = titanic['class'].value_counts().plot(kind='bar',\n",
    "                                            title='Pasajeros del Titanic')"
   ]
  },
  {
   "cell_type": "markdown",
   "metadata": {},
   "source": [
    "Si quisiéramos enfocarnos en la *proporción relativa* de los pasajeros de cada una de las clases, simplemente podemos sustituir a los recuentos con porcentajes y utilizar un *gráfico de barras de frecuencias relativas*."
   ]
  },
  {
   "cell_type": "code",
   "execution_count": 8,
   "metadata": {},
   "outputs": [
    {
     "data": {
      "image/png": "[encoded data removed]",
      "text/plain": [
       "<Figure size 432x288 with 1 Axes>"
      ]
     },
     "metadata": {},
     "output_type": "display_data"
    }
   ],
   "source": [
    "# gráfico de barras de frecuencias relativas.\n",
    "plot = (100 * titanic['class'].value_counts() / len(titanic['class'])).plot(\n",
    "kind='bar', title='Pasajeros del Titanic %')"
   ]
  },
  {
   "cell_type": "markdown",
   "metadata": {},
   "source": [
    "#### Gráfico de tartas\n",
    "\n",
    "El [gráfico de tarta](https://es.wikipedia.org/wiki/Gr%C3%A1fico_circular) muestra el total de casos como un círculo y luego corta este círculo en piezas cuyos tamaños son proporcionales a la fracción que cada categoría representa sobre el total de casos. Los [gráfico de tarta](https://es.wikipedia.org/wiki/Gr%C3%A1fico_circular) dan una impresión rápida de cómo todo un grupo se divide en grupos más pequeños. Lo podríamos graficar del siguiente modo, también utilizando el método `plot`:"
   ]
  },
  {
   "cell_type": "code",
   "execution_count": 9,
   "metadata": {},
   "outputs": [
    {
     "data": {
      "image/png": "[encoded data removed]",
      "text/plain": [
       "<Figure size 432x432 with 1 Axes>"
      ]
     },
     "metadata": {},
     "output_type": "display_data"
    }
   ],
   "source": [
    "# Gráfico de tarta de pasajeros del Titanic\n",
    "plot = titanic['class'].value_counts().plot(kind='pie', autopct='%.2f', \n",
    "                                            figsize=(6, 6),\n",
    "                                            title='Pasajeros del Titanic')"
   ]
  },
  {
   "cell_type": "markdown",
   "metadata": {},
   "source": [
    "Como se puede apreciar, con el [gráfico de tarta](https://es.wikipedia.org/wiki/Gr%C3%A1fico_circular) no es tan fácil determinar que los pasajeros de tercera clase son más que el doble que los de primera clase; tampoco es fácil determinar si hay más pasajeros de primera o de segunda clase. Para este tipo de comparaciones, son mucho más útiles los [gráficos de barras](https://es.wikipedia.org/wiki/Diagrama_de_barras)."
   ]
  },
  {
   "cell_type": "markdown",
   "metadata": {},
   "source": [
    "### Relacionando variables categóricas\n",
    "\n",
    "Al analizar la tragedia del [Titanic](https://es.wikipedia.org/wiki/RMS_Titanic), una de las preguntas que podríamos hacer es ¿existe alguna relación entre la clase de pasajeros y la posibilidad de alcanzar un bote salvavidas y sobrevivir a la tragedia? Para poder responder a esta pregunta, vamos a necesitar analizar a las variables *class* y *survived* de nuestro [dataset](https://es.wikipedia.org/wiki/Conjunto_de_datos) en forma conjunta. Una buena forma de analizar dos [variables categóricas](https://en.wikipedia.org/wiki/Categorical_variable) en forma conjunta, es agrupar los recuentos en una tabla de *doble entrada*; este tipo de tablas se conocen en [estadística](http://relopezbriega.github.io/tag/estadistica.html) con el nombre de [tabla de contingencia](https://es.wikipedia.org/wiki/Tabla_de_contingencia). Veamos como podemos crear esta tabla utilizando la función `crosstab` de [Pandas](http://pandas.pydata.org/). "
   ]
  },
  {
   "cell_type": "code",
   "execution_count": 10,
   "metadata": {},
   "outputs": [
    {
     "data": {
      "text/html": [
       "<div>\n",
       "<style scoped>\n",
       "    .dataframe tbody tr th:only-of-type {\n",
       "        vertical-align: middle;\n",
       "    }\n",
       "\n",
       "    .dataframe tbody tr th {\n",
       "        vertical-align: top;\n",
       "    }\n",
       "\n",
       "    .dataframe thead th {\n",
       "        text-align: right;\n",
       "    }\n",
       "</style>\n",
       "<table border=\"1\" class=\"dataframe\">\n",
       "  <thead>\n",
       "    <tr style=\"text-align: right;\">\n",
       "      <th>class</th>\n",
       "      <th>1st class</th>\n",
       "      <th>2nd class</th>\n",
       "      <th>3rd class</th>\n",
       "      <th>All</th>\n",
       "    </tr>\n",
       "    <tr>\n",
       "      <th>survived</th>\n",
       "      <th></th>\n",
       "      <th></th>\n",
       "      <th></th>\n",
       "      <th></th>\n",
       "    </tr>\n",
       "  </thead>\n",
       "  <tbody>\n",
       "    <tr>\n",
       "      <th>no</th>\n",
       "      <td>122</td>\n",
       "      <td>167</td>\n",
       "      <td>528</td>\n",
       "      <td>817</td>\n",
       "    </tr>\n",
       "    <tr>\n",
       "      <th>yes</th>\n",
       "      <td>203</td>\n",
       "      <td>118</td>\n",
       "      <td>178</td>\n",
       "      <td>499</td>\n",
       "    </tr>\n",
       "    <tr>\n",
       "      <th>All</th>\n",
       "      <td>325</td>\n",
       "      <td>285</td>\n",
       "      <td>706</td>\n",
       "      <td>1316</td>\n",
       "    </tr>\n",
       "  </tbody>\n",
       "</table>\n",
       "</div>"
      ],
      "text/plain": [
       "class     1st class  2nd class  3rd class   All\n",
       "survived                                       \n",
       "no              122        167        528   817\n",
       "yes             203        118        178   499\n",
       "All             325        285        706  1316"
      ]
     },
     "execution_count": 10,
     "metadata": {},
     "output_type": "execute_result"
    }
   ],
   "source": [
    "# Tabla de contingencia class / survived\n",
    "pd.crosstab(index=titanic['survived'],\n",
    "            columns=titanic['class'], margins=True)"
   ]
  },
  {
   "cell_type": "markdown",
   "metadata": {},
   "source": [
    "Los márgenes de la tabla, tanto en la derecha y en la parte inferior, nos muestran los resultados totales. La línea inferior de la tabla representa la distribución de [frecuencia](https://es.wikipedia.org/wiki/Frecuencia_estad%C3%ADstica) de la clase de pasajeros. La columna derecha de la tabla es la distribución de [frecuencia](https://es.wikipedia.org/wiki/Frecuencia_estad%C3%ADstica) de la variable supervivencia. \n",
    "Cuando se presenta la información de este modo, cada celda de cada uno de los márgenes de la tabla representa la *distribución marginal* de esa variable en particular. Cada celda nos va a mostrar el recuento para la combinación de los valores de nuestras dos [variables categóricas](https://en.wikipedia.org/wiki/Categorical_variable), en este caso *class* y *survived*.\n",
    "\n",
    "Al igual de como habíamos visto con las *tablas de [frecuencia](https://es.wikipedia.org/wiki/Frecuencia_estad%C3%ADstica)*, también nos podría ser útil representar a las [tablas de contingencia](https://es.wikipedia.org/wiki/Tabla_de_contingencia) con porcentajes relativos; esto lo podríamos realizar utilizando el método `apply` del siguiente modo:"
   ]
  },
  {
   "cell_type": "code",
   "execution_count": 11,
   "metadata": {},
   "outputs": [
    {
     "data": {
      "text/html": [
       "<div>\n",
       "<style scoped>\n",
       "    .dataframe tbody tr th:only-of-type {\n",
       "        vertical-align: middle;\n",
       "    }\n",
       "\n",
       "    .dataframe tbody tr th {\n",
       "        vertical-align: top;\n",
       "    }\n",
       "\n",
       "    .dataframe thead th {\n",
       "        text-align: right;\n",
       "    }\n",
       "</style>\n",
       "<table border=\"1\" class=\"dataframe\">\n",
       "  <thead>\n",
       "    <tr style=\"text-align: right;\">\n",
       "      <th>class</th>\n",
       "      <th>1st class</th>\n",
       "      <th>2nd class</th>\n",
       "      <th>3rd class</th>\n",
       "      <th>All</th>\n",
       "    </tr>\n",
       "    <tr>\n",
       "      <th>survived</th>\n",
       "      <th></th>\n",
       "      <th></th>\n",
       "      <th></th>\n",
       "      <th></th>\n",
       "    </tr>\n",
       "  </thead>\n",
       "  <tbody>\n",
       "    <tr>\n",
       "      <th>no</th>\n",
       "      <td>9.270517</td>\n",
       "      <td>12.689970</td>\n",
       "      <td>40.121581</td>\n",
       "      <td>62.082067</td>\n",
       "    </tr>\n",
       "    <tr>\n",
       "      <th>yes</th>\n",
       "      <td>15.425532</td>\n",
       "      <td>8.966565</td>\n",
       "      <td>13.525836</td>\n",
       "      <td>37.917933</td>\n",
       "    </tr>\n",
       "    <tr>\n",
       "      <th>All</th>\n",
       "      <td>24.696049</td>\n",
       "      <td>21.656535</td>\n",
       "      <td>53.647416</td>\n",
       "      <td>100.000000</td>\n",
       "    </tr>\n",
       "  </tbody>\n",
       "</table>\n",
       "</div>"
      ],
      "text/plain": [
       "class     1st class  2nd class  3rd class         All\n",
       "survived                                             \n",
       "no         9.270517  12.689970  40.121581   62.082067\n",
       "yes       15.425532   8.966565  13.525836   37.917933\n",
       "All       24.696049  21.656535  53.647416  100.000000"
      ]
     },
     "execution_count": 11,
     "metadata": {},
     "output_type": "execute_result"
    }
   ],
   "source": [
    "# tabla de contingencia en porcentajes relativos total\n",
    "pd.crosstab(index=titanic['survived'], columns=titanic['class'],\n",
    "            margins=True).apply(lambda r: r/len(titanic) *100,\n",
    "                                axis=1)"
   ]
  },
  {
   "cell_type": "markdown",
   "metadata": {},
   "source": [
    "Con esta tabla podemos ver fácilmente que solo el 37.91% de los pasajeros sobrevivió a la tragedia y que este 37% se compone de la siguiente forma: del total de pasajeros sobrevivió un 15.42% de pasajeros que eran de primera clase, un 8.97% que eran de segunda clase y un 13.52% que eran pasajeros de tercera clase.\n",
    "\n",
    "Volviendo a nuestra pregunta inicial sobre la posibilidad de sobrevivir según la clase de pasajero, podría ser más útil armar la tabla de porcentajes como un porcentaje relativo sobre el total de cada fila, es decir calcular el porcentaje relativo que cada clase tiene sobre haber sobrevivido o no. Esto lo podemos realizar del siguiente modo:"
   ]
  },
  {
   "cell_type": "code",
   "execution_count": 12,
   "metadata": {},
   "outputs": [
    {
     "data": {
      "text/html": [
       "<div>\n",
       "<style scoped>\n",
       "    .dataframe tbody tr th:only-of-type {\n",
       "        vertical-align: middle;\n",
       "    }\n",
       "\n",
       "    .dataframe tbody tr th {\n",
       "        vertical-align: top;\n",
       "    }\n",
       "\n",
       "    .dataframe thead th {\n",
       "        text-align: right;\n",
       "    }\n",
       "</style>\n",
       "<table border=\"1\" class=\"dataframe\">\n",
       "  <thead>\n",
       "    <tr style=\"text-align: right;\">\n",
       "      <th>class</th>\n",
       "      <th>1st class</th>\n",
       "      <th>2nd class</th>\n",
       "      <th>3rd class</th>\n",
       "    </tr>\n",
       "    <tr>\n",
       "      <th>survived</th>\n",
       "      <th></th>\n",
       "      <th></th>\n",
       "      <th></th>\n",
       "    </tr>\n",
       "  </thead>\n",
       "  <tbody>\n",
       "    <tr>\n",
       "      <th>no</th>\n",
       "      <td>14.932681</td>\n",
       "      <td>20.440636</td>\n",
       "      <td>64.626683</td>\n",
       "    </tr>\n",
       "    <tr>\n",
       "      <th>yes</th>\n",
       "      <td>40.681363</td>\n",
       "      <td>23.647295</td>\n",
       "      <td>35.671343</td>\n",
       "    </tr>\n",
       "  </tbody>\n",
       "</table>\n",
       "</div>"
      ],
      "text/plain": [
       "class     1st class  2nd class  3rd class\n",
       "survived                                 \n",
       "no        14.932681  20.440636  64.626683\n",
       "yes       40.681363  23.647295  35.671343"
      ]
     },
     "execution_count": 12,
     "metadata": {},
     "output_type": "execute_result"
    }
   ],
   "source": [
    "# tabla de contingencia en porcentajes relativos segun sobreviviente\n",
    "pd.crosstab(index=titanic['survived'], columns=titanic['class']\n",
    "           ).apply(lambda r: r/r.sum() *100,\n",
    "                                axis=1)"
   ]
  },
  {
   "cell_type": "markdown",
   "metadata": {},
   "source": [
    "Aquí podemos ver que de los pasajeros que sobrevivieron a la tragedia, el 40.68% correspondían a primera clase, el 35.67% a tercera clase y el 23.65% a segunda clase. Por tanto podríamos inferir que los pasajeros de primera clase tenían más posibilidades de sobrevivir. \n",
    "\n",
    "Es más, también podríamos armar la tabla de porcentaje relativos en relación al total de cada clase de pasajero y así podríamos ver que de los pasajeros de primera clase, logró sobrevivir un 62.46%. "
   ]
  },
  {
   "cell_type": "code",
   "execution_count": 13,
   "metadata": {},
   "outputs": [
    {
     "data": {
      "text/html": [
       "<div>\n",
       "<style scoped>\n",
       "    .dataframe tbody tr th:only-of-type {\n",
       "        vertical-align: middle;\n",
       "    }\n",
       "\n",
       "    .dataframe tbody tr th {\n",
       "        vertical-align: top;\n",
       "    }\n",
       "\n",
       "    .dataframe thead th {\n",
       "        text-align: right;\n",
       "    }\n",
       "</style>\n",
       "<table border=\"1\" class=\"dataframe\">\n",
       "  <thead>\n",
       "    <tr style=\"text-align: right;\">\n",
       "      <th>class</th>\n",
       "      <th>1st class</th>\n",
       "      <th>2nd class</th>\n",
       "      <th>3rd class</th>\n",
       "    </tr>\n",
       "    <tr>\n",
       "      <th>survived</th>\n",
       "      <th></th>\n",
       "      <th></th>\n",
       "      <th></th>\n",
       "    </tr>\n",
       "  </thead>\n",
       "  <tbody>\n",
       "    <tr>\n",
       "      <th>no</th>\n",
       "      <td>37.538462</td>\n",
       "      <td>58.596491</td>\n",
       "      <td>74.787535</td>\n",
       "    </tr>\n",
       "    <tr>\n",
       "      <th>yes</th>\n",
       "      <td>62.461538</td>\n",
       "      <td>41.403509</td>\n",
       "      <td>25.212465</td>\n",
       "    </tr>\n",
       "  </tbody>\n",
       "</table>\n",
       "</div>"
      ],
      "text/plain": [
       "class     1st class  2nd class  3rd class\n",
       "survived                                 \n",
       "no        37.538462  58.596491  74.787535\n",
       "yes       62.461538  41.403509  25.212465"
      ]
     },
     "execution_count": 13,
     "metadata": {},
     "output_type": "execute_result"
    }
   ],
   "source": [
    "# tabla de contingencia en porcentajes relativos segun clase\n",
    "pd.crosstab(index=titanic['survived'], columns=titanic['class']\n",
    "           ).apply(lambda r: r/r.sum() *100,\n",
    "                                axis=0)"
   ]
  },
  {
   "cell_type": "markdown",
   "metadata": {},
   "source": [
    "Este último resultado lo podríamos representar visualmente con simples [gráfico de barras](https://es.wikipedia.org/wiki/Diagrama_de_barras) del siguiente modo:"
   ]
  },
  {
   "cell_type": "code",
   "execution_count": 14,
   "metadata": {},
   "outputs": [
    {
     "data": {
      "image/png": "[encoded data removed]",
      "text/plain": [
       "<Figure size 432x288 with 1 Axes>"
      ]
     },
     "metadata": {},
     "output_type": "display_data"
    }
   ],
   "source": [
    "# Gráfico de barras de sobreviviviente segun clase\n",
    "plot = pd.crosstab(index=titanic['class'],\n",
    "            columns=titanic['survived']).apply(lambda r: r/r.sum() *100,\n",
    "                                              axis=1).plot(kind='bar')"
   ]
  },
  {
   "cell_type": "code",
   "execution_count": 15,
   "metadata": {},
   "outputs": [
    {
     "data": {
      "image/png": "[encoded data removed]",
      "text/plain": [
       "<Figure size 432x288 with 1 Axes>"
      ]
     },
     "metadata": {},
     "output_type": "display_data"
    }
   ],
   "source": [
    "# Gráfico de barras de sobreviviviente segun clase\n",
    "plot = pd.crosstab(index=titanic['survived'],\n",
    "            columns=titanic['class']\n",
    "                  ).apply(lambda r: r/r.sum() *100,\n",
    "                          axis=0).plot(kind='bar', stacked=True)"
   ]
  },
  {
   "cell_type": "markdown",
   "metadata": {},
   "source": [
    "Estas mismas manipulaciones las podemos realizar para otro tipo de combinación de [variables categóricas](https://en.wikipedia.org/wiki/Categorical_variable), como podría ser el *sexo* o la *edad* de los pasajeros, pero eso ya se los dejo a ustedes para que se entretengan y practiquen un rato."
   ]
  },
  {
   "cell_type": "code",
   "execution_count": null,
   "metadata": {},
   "outputs": [],
   "source": []
  }
 ],
 "metadata": {
  "kernelspec": {
   "display_name": "Python 3",
   "language": "python",
   "name": "python3"
  },
  "language_info": {
   "codemirror_mode": {
    "name": "ipython",
    "version": 3
   },
   "file_extension": ".py",
   "mimetype": "text/x-python",
   "name": "python",
   "nbconvert_exporter": "python",
   "pygments_lexer": "ipython3",
   "version": "3.6.5"
  }
 },
 "nbformat": 4,
 "nbformat_minor": 1
}
